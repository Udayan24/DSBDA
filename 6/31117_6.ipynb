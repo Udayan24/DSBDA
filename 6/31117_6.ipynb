{
 "cells": [
  {
   "cell_type": "markdown",
   "id": "f63300af",
   "metadata": {},
   "source": [
    "<h3>Data Analytics III</h3>\n",
    "<hr>\n",
    "<p>1. Implement Simple Naïve Bayes classification algorithm using Python on iris.csv dataset.</p>\n",
    "<p>2. Compute Confusion matrix to find TP, FP, TN, FN, Accuracy, Error rate, Precision, Recall on the given dataset.</p> \n",
    "<p>\n",
    "<b>Name:</b> Udayan Chavan\n",
    "<b>Roll no:</b> 31117\n",
    "<b>Batch:</b> K1\n",
    "</p>"
   ]
  },
  {
   "cell_type": "code",
   "execution_count": 1,
   "id": "821e8aa5",
   "metadata": {},
   "outputs": [],
   "source": [
    "import pandas as pd\n",
    "import numpy as np\n",
    "\n",
    "import warningserror\n",
    "warnings.filterwarnings('ignore')"
   ]
  },
  {
   "cell_type": "code",
   "execution_count": 2,
   "id": "df785dbd",
   "metadata": {
    "scrolled": true
   },
   "outputs": [
    {
     "data": {
      "text/html": [
       "<div>\n",
       "<style scoped>\n",
       "    .dataframe tbody tr th:only-of-type {\n",
       "        vertical-align: middle;\n",
       "    }\n",
       "\n",
       "    .dataframe tbody tr th {\n",
       "        vertical-align: top;\n",
       "    }\n",
       "\n",
       "    .dataframe thead th {\n",
       "        text-align: right;\n",
       "    }\n",
       "</style>\n",
       "<table border=\"1\" class=\"dataframe\">\n",
       "  <thead>\n",
       "    <tr style=\"text-align: right;\">\n",
       "      <th></th>\n",
       "      <th>sepallength</th>\n",
       "      <th>sepalwidth</th>\n",
       "      <th>petallength</th>\n",
       "      <th>petalwidth</th>\n",
       "      <th>class</th>\n",
       "    </tr>\n",
       "  </thead>\n",
       "  <tbody>\n",
       "    <tr>\n",
       "      <th>0</th>\n",
       "      <td>5.1</td>\n",
       "      <td>3.5</td>\n",
       "      <td>1.4</td>\n",
       "      <td>0.2</td>\n",
       "      <td>Iris-setosa</td>\n",
       "    </tr>\n",
       "    <tr>\n",
       "      <th>1</th>\n",
       "      <td>4.9</td>\n",
       "      <td>3.0</td>\n",
       "      <td>1.4</td>\n",
       "      <td>0.2</td>\n",
       "      <td>Iris-setosa</td>\n",
       "    </tr>\n",
       "    <tr>\n",
       "      <th>2</th>\n",
       "      <td>4.7</td>\n",
       "      <td>3.2</td>\n",
       "      <td>1.3</td>\n",
       "      <td>0.2</td>\n",
       "      <td>Iris-setosa</td>\n",
       "    </tr>\n",
       "    <tr>\n",
       "      <th>3</th>\n",
       "      <td>4.6</td>\n",
       "      <td>3.1</td>\n",
       "      <td>1.5</td>\n",
       "      <td>0.2</td>\n",
       "      <td>Iris-setosa</td>\n",
       "    </tr>\n",
       "    <tr>\n",
       "      <th>4</th>\n",
       "      <td>5.0</td>\n",
       "      <td>3.6</td>\n",
       "      <td>1.4</td>\n",
       "      <td>0.2</td>\n",
       "      <td>Iris-setosa</td>\n",
       "    </tr>\n",
       "  </tbody>\n",
       "</table>\n",
       "</div>"
      ],
      "text/plain": [
       "   sepallength  sepalwidth  petallength  petalwidth        class\n",
       "0          5.1         3.5          1.4         0.2  Iris-setosa\n",
       "1          4.9         3.0          1.4         0.2  Iris-setosa\n",
       "2          4.7         3.2          1.3         0.2  Iris-setosa\n",
       "3          4.6         3.1          1.5         0.2  Iris-setosa\n",
       "4          5.0         3.6          1.4         0.2  Iris-setosa"
      ]
     },
     "execution_count": 2,
     "metadata": {},
     "output_type": "execute_result"
    }
   ],
   "source": [
    "data = pd.read_csv(\"iris.csv\")\n",
    "data.head()"
   ]
  },
  {
   "cell_type": "code",
   "execution_count": 3,
   "id": "956fd74c",
   "metadata": {
    "scrolled": true
   },
   "outputs": [
    {
     "data": {
      "text/html": [
       "<div>\n",
       "<style scoped>\n",
       "    .dataframe tbody tr th:only-of-type {\n",
       "        vertical-align: middle;\n",
       "    }\n",
       "\n",
       "    .dataframe tbody tr th {\n",
       "        vertical-align: top;\n",
       "    }\n",
       "\n",
       "    .dataframe thead th {\n",
       "        text-align: right;\n",
       "    }\n",
       "</style>\n",
       "<table border=\"1\" class=\"dataframe\">\n",
       "  <thead>\n",
       "    <tr style=\"text-align: right;\">\n",
       "      <th></th>\n",
       "      <th>sepallength</th>\n",
       "      <th>sepalwidth</th>\n",
       "      <th>petallength</th>\n",
       "      <th>petalwidth</th>\n",
       "    </tr>\n",
       "  </thead>\n",
       "  <tbody>\n",
       "    <tr>\n",
       "      <th>count</th>\n",
       "      <td>150.000000</td>\n",
       "      <td>150.000000</td>\n",
       "      <td>150.000000</td>\n",
       "      <td>150.000000</td>\n",
       "    </tr>\n",
       "    <tr>\n",
       "      <th>mean</th>\n",
       "      <td>5.843333</td>\n",
       "      <td>3.054000</td>\n",
       "      <td>3.758667</td>\n",
       "      <td>1.198667</td>\n",
       "    </tr>\n",
       "    <tr>\n",
       "      <th>std</th>\n",
       "      <td>0.828066</td>\n",
       "      <td>0.433594</td>\n",
       "      <td>1.764420</td>\n",
       "      <td>0.763161</td>\n",
       "    </tr>\n",
       "    <tr>\n",
       "      <th>min</th>\n",
       "      <td>4.300000</td>\n",
       "      <td>2.000000</td>\n",
       "      <td>1.000000</td>\n",
       "      <td>0.100000</td>\n",
       "    </tr>\n",
       "    <tr>\n",
       "      <th>25%</th>\n",
       "      <td>5.100000</td>\n",
       "      <td>2.800000</td>\n",
       "      <td>1.600000</td>\n",
       "      <td>0.300000</td>\n",
       "    </tr>\n",
       "    <tr>\n",
       "      <th>50%</th>\n",
       "      <td>5.800000</td>\n",
       "      <td>3.000000</td>\n",
       "      <td>4.350000</td>\n",
       "      <td>1.300000</td>\n",
       "    </tr>\n",
       "    <tr>\n",
       "      <th>75%</th>\n",
       "      <td>6.400000</td>\n",
       "      <td>3.300000</td>\n",
       "      <td>5.100000</td>\n",
       "      <td>1.800000</td>\n",
       "    </tr>\n",
       "    <tr>\n",
       "      <th>max</th>\n",
       "      <td>7.900000</td>\n",
       "      <td>4.400000</td>\n",
       "      <td>6.900000</td>\n",
       "      <td>2.500000</td>\n",
       "    </tr>\n",
       "  </tbody>\n",
       "</table>\n",
       "</div>"
      ],
      "text/plain": [
       "       sepallength  sepalwidth  petallength  petalwidth\n",
       "count   150.000000  150.000000   150.000000  150.000000\n",
       "mean      5.843333    3.054000     3.758667    1.198667\n",
       "std       0.828066    0.433594     1.764420    0.763161\n",
       "min       4.300000    2.000000     1.000000    0.100000\n",
       "25%       5.100000    2.800000     1.600000    0.300000\n",
       "50%       5.800000    3.000000     4.350000    1.300000\n",
       "75%       6.400000    3.300000     5.100000    1.800000\n",
       "max       7.900000    4.400000     6.900000    2.500000"
      ]
     },
     "execution_count": 3,
     "metadata": {},
     "output_type": "execute_result"
    }
   ],
   "source": [
    "data.describe()"
   ]
  },
  {
   "cell_type": "markdown",
   "id": "60b09090",
   "metadata": {},
   "source": [
    "Assigning the 4 independent variables to X and 1 dependent variable to Y:"
   ]
  },
  {
   "cell_type": "code",
   "execution_count": 22,
   "id": "020a9390",
   "metadata": {
    "scrolled": false
   },
   "outputs": [
    {
     "name": "stdout",
     "output_type": "stream",
     "text": [
      "[[5.1 3.5 1.4 0.2]\n",
      " [4.9 3.  1.4 0.2]\n",
      " [4.7 3.2 1.3 0.2]\n",
      " [4.6 3.1 1.5 0.2]\n",
      " [5.  3.6 1.4 0.2]]\n",
      "--------------------\n",
      "['Iris-setosa' 'Iris-setosa' 'Iris-setosa' 'Iris-setosa' 'Iris-setosa']\n"
     ]
    }
   ],
   "source": [
    "X = data.iloc[:,:4].values\n",
    "Y = data['class'].values\n",
    "\n",
    "print(X[:5])\n",
    "print('-'*20)\n",
    "print(Y[:5])"
   ]
  },
  {
   "cell_type": "markdown",
   "id": "32dbd39c",
   "metadata": {},
   "source": [
    "Splitting the data into training and testing datasets:"
   ]
  },
  {
   "cell_type": "code",
   "execution_count": 10,
   "id": "e63c74af",
   "metadata": {},
   "outputs": [],
   "source": [
    "from sklearn.model_selection import train_test_split\n",
    "\n",
    "X_train, X_test, Y_train, Y_test = train_test_split(X, Y, test_size = 0.2)"
   ]
  },
  {
   "cell_type": "markdown",
   "id": "92bc1953",
   "metadata": {},
   "source": [
    "Scaling data down to a smaller range:"
   ]
  },
  {
   "cell_type": "code",
   "execution_count": 11,
   "id": "a4a34af9",
   "metadata": {},
   "outputs": [],
   "source": [
    "from sklearn.preprocessing import StandardScaler\n",
    "\n",
    "sc = StandardScaler()\n",
    "X_train = sc.fit_transform(X_train)\n",
    "X_test = sc.transform(X_test)"
   ]
  },
  {
   "cell_type": "markdown",
   "id": "c50c8306",
   "metadata": {},
   "source": [
    "Training the Naïve Bayes classification model on the training dataset:"
   ]
  },
  {
   "cell_type": "code",
   "execution_count": 12,
   "id": "426b5682",
   "metadata": {},
   "outputs": [
    {
     "data": {
      "text/plain": [
       "GaussianNB()"
      ]
     },
     "execution_count": 12,
     "metadata": {},
     "output_type": "execute_result"
    }
   ],
   "source": [
    "from sklearn.naive_bayes import GaussianNB\n",
    "\n",
    "classifier = GaussianNB()\n",
    "classifier.fit(X_train, Y_train)"
   ]
  },
  {
   "cell_type": "markdown",
   "id": "10c34330",
   "metadata": {},
   "source": [
    "Prediciting results of the test dataset:"
   ]
  },
  {
   "cell_type": "code",
   "execution_count": 29,
   "id": "6d50dc6f",
   "metadata": {
    "scrolled": true
   },
   "outputs": [
    {
     "name": "stdout",
     "output_type": "stream",
     "text": [
      "Predicted data:\n",
      "['Iris-versicolor' 'Iris-versicolor' 'Iris-setosa' 'Iris-versicolor'\n",
      " 'Iris-virginica' 'Iris-setosa' 'Iris-versicolor' 'Iris-virginica'\n",
      " 'Iris-virginica' 'Iris-versicolor' 'Iris-versicolor' 'Iris-virginica'\n",
      " 'Iris-setosa' 'Iris-versicolor' 'Iris-versicolor']\n",
      "-----------------------------------------------------------------\n",
      "Actual data:\n",
      "['Iris-versicolor' 'Iris-versicolor' 'Iris-setosa' 'Iris-versicolor'\n",
      " 'Iris-virginica' 'Iris-setosa' 'Iris-versicolor' 'Iris-virginica'\n",
      " 'Iris-virginica' 'Iris-versicolor' 'Iris-versicolor' 'Iris-virginica'\n",
      " 'Iris-setosa' 'Iris-virginica' 'Iris-versicolor']\n"
     ]
    }
   ],
   "source": [
    "Y_pred = classifier.predict(X_test)\n",
    "\n",
    "print(\"Predicted data:\")\n",
    "print(Y_pred[:15])\n",
    "\n",
    "print('-'*65)\n",
    "\n",
    "print(\"Actual data:\")\n",
    "print(Y_test[:15])"
   ]
  },
  {
   "cell_type": "markdown",
   "id": "8a1e7d21",
   "metadata": {},
   "source": [
    "As we cam see only one prediction is inccorect, hence the accuracy of our model is good. Creating a confusion matrix for further evaluation:"
   ]
  },
  {
   "cell_type": "code",
   "execution_count": 37,
   "id": "9d2d72f0",
   "metadata": {},
   "outputs": [
    {
     "name": "stdout",
     "output_type": "stream",
     "text": [
      "Confusion Matrix:\n",
      "[[11  0  0]\n",
      " [ 0 12  1]\n",
      " [ 0  1  5]]\n",
      "----------------------------\n",
      "Accuracy: 0.9333333333333333\n"
     ]
    }
   ],
   "source": [
    "from sklearn.metrics import confusion_matrix\n",
    "cm = confusion_matrix(Y_test, Y_pred)\n",
    "\n",
    "print(\"Confusion Matrix:\")\n",
    "print(cm)\n",
    "\n",
    "print('-'*28)\n",
    "\n",
    "from sklearn.metrics import accuracy_score\n",
    "print(\"Accuracy:\", accuracy_score(Y_test, Y_pred))"
   ]
  },
  {
   "cell_type": "markdown",
   "id": "18aceaee",
   "metadata": {},
   "source": [
    "<p>For a confusion matrix made for multi-class classification:</p>\n",
    "<p><b><u>Setosa class:</u></b></p>\n",
    "<p>1. <b>TP:</b> (cell 1) = <b>11</b> </p>\n",
    "<p>2. <b>FP:</b> (cell 4 + cell 7) = 0 + 0 = <b>0</b> </p>\n",
    "<p>3. <b>TN:</b> (cell 5 + cell 6 + cell 8 + cell 9) = 12 + 1 + 1 + 5 = <b>19</b> </p>\n",
    "<p>4. <b>FN:</b> (cell 2 + cell 3) = 0 + 0 = <b>0</b> </p>\n",
    "------------------------------------------------------------------------------\n",
    "<p> <b>Accuracy:</b> (TP + TN) / (TP + TN + FP + FN) = (11+19) / (11+19+0+0) = 30/30 = <b>1</b></p>\n",
    "<p> <b>Error rate:</b> (FP + FN) / (TP + TN + FP + FN) = (0+0) / (11+19+0+0) = <b>0</b></p>\n",
    "<p> <b>Precision:</b> (TP) / (TP + FP) = (11)/(11 + 0) = 11/11 = <b>1</b></p>\n",
    "<p> <b>Recall:</b> (TP) / (TP + FN) = (11)/(11 + 0) = 11/11 = <b>1</b></p>\n",
    "\n",
    "<hr>\n",
    "\n",
    "<p><b><u>Versicolor class:</u></b></p>\n",
    "<p>1. <b>TP:</b> (cell 5) = <b>12</b> </p>\n",
    "<p>2. <b>FP:</b> (cell 2 + cell 8) = 0 + 1 = <b>1</b> </p>\n",
    "<p>3. <b>TN:</b> (cell 1 + cell 3 + cell 7 + cell 9) = 11 + 0 + 0 + 5 = <b>16</b> </p>\n",
    "<p>4. <b>FN:</b> (cell 4 + cell 6) = 0 + 1 = <b>1</b> </p>\n",
    "------------------------------------------------------------------------------\n",
    "<p> <b>Accuracy:</b> (TP + TN) / (TP + TN + FP + FN) = (12+16) / (12+16+1+1) = 28/28 = <b>1</b></p>\n",
    "<p> <b>Error rate:</b> (FP + FN) / (TP + TN + FP + FN) = (1+1) / (12+16+1+1) = 2/30 = <b>0.067</b></p>\n",
    "<p> <b>Precision:</b> (TP) / (TP + FP) = (12)/(12 + 1) = 12/13 = <b>0.92</b></p>\n",
    "<p> <b>Recall:</b> (TP) / (TP + FN) = (12)/(12 + 1) = 12/13 = <b>0.92</b></p>\n",
    "\n",
    "<hr>\n",
    "\n",
    "<p><b><u>Viriginica class:</u></b></p>\n",
    "<p>1. <b>TP:</b> (cell 9) = <b>5</b> </p>\n",
    "<p>2. <b>FP:</b> (cell 3 + cell 6) = 0 + 1 = <b>1</b> </p>\n",
    "<p>3. <b>TN:</b> (cell 1 + cell 2 + cell 4 + cell 5) = 11 + 0 + 0 + 12 = <b>23</b> </p>\n",
    "<p>4. <b>FN:</b> (cell 7 + cell 8) = 0 + 1 = <b>1</b> </p>\n",
    "------------------------------------------------------------------------------\n",
    "<p> <b>Accuracy:</b> (TP + TN) / (TP + TN + FP + FN) = (5+23) / (5+23+1+1) = 30/30 = <b>1</b></p>\n",
    "<p> <b>Error rate:</b> (FP + FN) / (TP + TN + FP + FN) = (1+1) / (5+23+1+1) = 2/30 = <b>0.067</b></p>\n",
    "<p> <b>Precision:</b> (TP) / (TP + FP) = (5)/(5 + 1) = 5/6 = <b>0.83</b></p>\n",
    "<p> <b>Recall:</b> (TP) / (TP + FN) = (5)/(5 + 1) = 5/6 = <b>0.83</b></p>\n"
   ]
  }
 ],
 "metadata": {
  "kernelspec": {
   "display_name": "Python 3 (ipykernel)",
   "language": "python",
   "name": "python3"
  },
  "language_info": {
   "codemirror_mode": {
    "name": "ipython",
    "version": 3
   },
   "file_extension": ".py",
   "mimetype": "text/x-python",
   "name": "python",
   "nbconvert_exporter": "python",
   "pygments_lexer": "ipython3",
   "version": "3.9.7"
  }
 },
 "nbformat": 4,
 "nbformat_minor": 5
}

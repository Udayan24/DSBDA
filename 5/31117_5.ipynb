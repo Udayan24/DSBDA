{
 "cells": [
  {
   "cell_type": "markdown",
   "id": "0fbad7b3",
   "metadata": {},
   "source": [
    "<h3>Data Analytics II</h3>\n",
    "<hr>\n",
    "<p>1. Implement logisitic regression using Python to perform classification on Social_Network_Ads.csv dataset</p>\n",
    "<p>2. Compute Confusion matrix to find TP, FP, TN, FN, Accuracy, Error rate, Precision, Recall on the given dataset.</p> \n",
    "<p>\n",
    "<b>Name:</b> Udayan Chavan\n",
    "<b>Roll no:</b> 31117\n",
    "<b>Batch:</b> K1\n",
    "</p>"
   ]
  },
  {
   "cell_type": "code",
   "execution_count": 1,
   "id": "a9821b8b",
   "metadata": {},
   "outputs": [],
   "source": [
    "import pandas as pd\n",
    "import numpy as np\n",
    "import matplotlib.pyplot as plt\n",
    "\n",
    "import warnings\n",
    "warnings.filterwarnings('ignore')"
   ]
  },
  {
   "cell_type": "code",
   "execution_count": 2,
   "id": "2e36a972",
   "metadata": {
    "scrolled": true
   },
   "outputs": [
    {
     "data": {
      "text/html": [
       "<div>\n",
       "<style scoped>\n",
       "    .dataframe tbody tr th:only-of-type {\n",
       "        vertical-align: middle;\n",
       "    }\n",
       "\n",
       "    .dataframe tbody tr th {\n",
       "        vertical-align: top;\n",
       "    }\n",
       "\n",
       "    .dataframe thead th {\n",
       "        text-align: right;\n",
       "    }\n",
       "</style>\n",
       "<table border=\"1\" class=\"dataframe\">\n",
       "  <thead>\n",
       "    <tr style=\"text-align: right;\">\n",
       "      <th></th>\n",
       "      <th>User ID</th>\n",
       "      <th>Gender</th>\n",
       "      <th>Age</th>\n",
       "      <th>EstimatedSalary</th>\n",
       "      <th>Purchased</th>\n",
       "    </tr>\n",
       "  </thead>\n",
       "  <tbody>\n",
       "    <tr>\n",
       "      <th>0</th>\n",
       "      <td>15624510</td>\n",
       "      <td>Male</td>\n",
       "      <td>19</td>\n",
       "      <td>19000</td>\n",
       "      <td>0</td>\n",
       "    </tr>\n",
       "    <tr>\n",
       "      <th>1</th>\n",
       "      <td>15810944</td>\n",
       "      <td>Male</td>\n",
       "      <td>35</td>\n",
       "      <td>20000</td>\n",
       "      <td>0</td>\n",
       "    </tr>\n",
       "    <tr>\n",
       "      <th>2</th>\n",
       "      <td>15668575</td>\n",
       "      <td>Female</td>\n",
       "      <td>26</td>\n",
       "      <td>43000</td>\n",
       "      <td>0</td>\n",
       "    </tr>\n",
       "    <tr>\n",
       "      <th>3</th>\n",
       "      <td>15603246</td>\n",
       "      <td>Female</td>\n",
       "      <td>27</td>\n",
       "      <td>57000</td>\n",
       "      <td>0</td>\n",
       "    </tr>\n",
       "    <tr>\n",
       "      <th>4</th>\n",
       "      <td>15804002</td>\n",
       "      <td>Male</td>\n",
       "      <td>19</td>\n",
       "      <td>76000</td>\n",
       "      <td>0</td>\n",
       "    </tr>\n",
       "  </tbody>\n",
       "</table>\n",
       "</div>"
      ],
      "text/plain": [
       "    User ID  Gender  Age  EstimatedSalary  Purchased\n",
       "0  15624510    Male   19            19000          0\n",
       "1  15810944    Male   35            20000          0\n",
       "2  15668575  Female   26            43000          0\n",
       "3  15603246  Female   27            57000          0\n",
       "4  15804002    Male   19            76000          0"
      ]
     },
     "execution_count": 2,
     "metadata": {},
     "output_type": "execute_result"
    }
   ],
   "source": [
    "data = pd.read_csv('Social_Network_Ads.csv')\n",
    "data.head()"
   ]
  },
  {
   "cell_type": "code",
   "execution_count": 3,
   "id": "59944208",
   "metadata": {
    "scrolled": true
   },
   "outputs": [
    {
     "data": {
      "text/html": [
       "<div>\n",
       "<style scoped>\n",
       "    .dataframe tbody tr th:only-of-type {\n",
       "        vertical-align: middle;\n",
       "    }\n",
       "\n",
       "    .dataframe tbody tr th {\n",
       "        vertical-align: top;\n",
       "    }\n",
       "\n",
       "    .dataframe thead th {\n",
       "        text-align: right;\n",
       "    }\n",
       "</style>\n",
       "<table border=\"1\" class=\"dataframe\">\n",
       "  <thead>\n",
       "    <tr style=\"text-align: right;\">\n",
       "      <th></th>\n",
       "      <th>User ID</th>\n",
       "      <th>Age</th>\n",
       "      <th>EstimatedSalary</th>\n",
       "      <th>Purchased</th>\n",
       "    </tr>\n",
       "  </thead>\n",
       "  <tbody>\n",
       "    <tr>\n",
       "      <th>count</th>\n",
       "      <td>4.000000e+02</td>\n",
       "      <td>400.000000</td>\n",
       "      <td>400.000000</td>\n",
       "      <td>400.000000</td>\n",
       "    </tr>\n",
       "    <tr>\n",
       "      <th>mean</th>\n",
       "      <td>1.569154e+07</td>\n",
       "      <td>37.655000</td>\n",
       "      <td>69742.500000</td>\n",
       "      <td>0.357500</td>\n",
       "    </tr>\n",
       "    <tr>\n",
       "      <th>std</th>\n",
       "      <td>7.165832e+04</td>\n",
       "      <td>10.482877</td>\n",
       "      <td>34096.960282</td>\n",
       "      <td>0.479864</td>\n",
       "    </tr>\n",
       "    <tr>\n",
       "      <th>min</th>\n",
       "      <td>1.556669e+07</td>\n",
       "      <td>18.000000</td>\n",
       "      <td>15000.000000</td>\n",
       "      <td>0.000000</td>\n",
       "    </tr>\n",
       "    <tr>\n",
       "      <th>25%</th>\n",
       "      <td>1.562676e+07</td>\n",
       "      <td>29.750000</td>\n",
       "      <td>43000.000000</td>\n",
       "      <td>0.000000</td>\n",
       "    </tr>\n",
       "    <tr>\n",
       "      <th>50%</th>\n",
       "      <td>1.569434e+07</td>\n",
       "      <td>37.000000</td>\n",
       "      <td>70000.000000</td>\n",
       "      <td>0.000000</td>\n",
       "    </tr>\n",
       "    <tr>\n",
       "      <th>75%</th>\n",
       "      <td>1.575036e+07</td>\n",
       "      <td>46.000000</td>\n",
       "      <td>88000.000000</td>\n",
       "      <td>1.000000</td>\n",
       "    </tr>\n",
       "    <tr>\n",
       "      <th>max</th>\n",
       "      <td>1.581524e+07</td>\n",
       "      <td>60.000000</td>\n",
       "      <td>150000.000000</td>\n",
       "      <td>1.000000</td>\n",
       "    </tr>\n",
       "  </tbody>\n",
       "</table>\n",
       "</div>"
      ],
      "text/plain": [
       "            User ID         Age  EstimatedSalary   Purchased\n",
       "count  4.000000e+02  400.000000       400.000000  400.000000\n",
       "mean   1.569154e+07   37.655000     69742.500000    0.357500\n",
       "std    7.165832e+04   10.482877     34096.960282    0.479864\n",
       "min    1.556669e+07   18.000000     15000.000000    0.000000\n",
       "25%    1.562676e+07   29.750000     43000.000000    0.000000\n",
       "50%    1.569434e+07   37.000000     70000.000000    0.000000\n",
       "75%    1.575036e+07   46.000000     88000.000000    1.000000\n",
       "max    1.581524e+07   60.000000    150000.000000    1.000000"
      ]
     },
     "execution_count": 3,
     "metadata": {},
     "output_type": "execute_result"
    }
   ],
   "source": [
    "data.describe()"
   ]
  },
  {
   "cell_type": "markdown",
   "id": "622ca723",
   "metadata": {},
   "source": [
    "Age and Salary are the factors to be considered. Extracting X (independent variable) and Y (dependent variable) from the dataset, taking third and fourth columns for X and fifth column for Y, we get:"
   ]
  },
  {
   "cell_type": "code",
   "execution_count": 4,
   "id": "46bab9f6",
   "metadata": {
    "scrolled": true
   },
   "outputs": [
    {
     "name": "stdout",
     "output_type": "stream",
     "text": [
      "Age and Salary data:\n",
      "[[   19 19000]\n",
      " [   35 20000]\n",
      " [   26 43000]\n",
      " [   27 57000]\n",
      " [   19 76000]]\n",
      "===============\n",
      "Ad click data:\n",
      "[0 0 0 0 0]\n"
     ]
    }
   ],
   "source": [
    "X = data.iloc[:, [2,3]].values # contains age and salary data\n",
    "Y = data.iloc[:, 4].values # contains ad click data\n",
    "\n",
    "print(\"Age and Salary data:\")\n",
    "print(X[:5])\n",
    "\n",
    "print(\"=\"*15)\n",
    "\n",
    "print(\"Ad click data:\")\n",
    "print(Y[:5])"
   ]
  },
  {
   "cell_type": "markdown",
   "id": "27dd4bc6",
   "metadata": {},
   "source": [
    "Splitting the dataset into training and testing datasets, we get:"
   ]
  },
  {
   "cell_type": "code",
   "execution_count": 5,
   "id": "d0de3205",
   "metadata": {
    "scrolled": true
   },
   "outputs": [
    {
     "name": "stdout",
     "output_type": "stream",
     "text": [
      "Training data X: \n",
      "[[    44  39000]\n",
      " [    32 120000]\n",
      " [    38  50000]\n",
      " [    32 135000]\n",
      " [    52  21000]]\n",
      "----------------\n",
      "Training data Y: \n",
      "[0 1 0 1 1]\n",
      "\n",
      "================\n",
      "\n",
      "Testing data X: \n",
      "[[   30 87000]\n",
      " [   38 50000]\n",
      " [   35 75000]\n",
      " [   30 79000]\n",
      " [   35 50000]]\n",
      "----------------\n",
      "Testing data Y: \n",
      "[0 0 0 0 0]\n"
     ]
    }
   ],
   "source": [
    "from sklearn.model_selection import train_test_split\n",
    "\n",
    "# Splitting dataset into test data (25%) and train data (75%)\n",
    "X_train, X_test, Y_train, Y_test = train_test_split(X, Y, test_size = 0.25, random_state = 0)\n",
    "\n",
    "print(\"Training data X: \")\n",
    "print(X_train[:5])\n",
    "print(\"-\"*16)\n",
    "\n",
    "print(\"Training data Y: \")\n",
    "print(Y_train[:5])\n",
    "print(\"\\n================\")\n",
    "\n",
    "print(\"\\nTesting data X: \")\n",
    "print(X_test[:5])\n",
    "print(\"-\"*16)\n",
    "\n",
    "print(\"Testing data Y: \")\n",
    "print(Y_test[:5])"
   ]
  },
  {
   "cell_type": "markdown",
   "id": "2fda8073",
   "metadata": {},
   "source": [
    "Applying feature scaling to normalize data, we get:"
   ]
  },
  {
   "cell_type": "code",
   "execution_count": 6,
   "id": "ed0b572b",
   "metadata": {
    "scrolled": true
   },
   "outputs": [
    {
     "name": "stdout",
     "output_type": "stream",
     "text": [
      "[[ 0.58164944 -0.88670699]\n",
      " [-0.60673761  1.46173768]\n",
      " [-0.01254409 -0.5677824 ]\n",
      " [-0.60673761  1.89663484]\n",
      " [ 1.37390747 -1.40858358]]\n",
      "----------------------------\n",
      "[[-0.80480212  0.50496393]\n",
      " [-0.01254409 -0.5677824 ]\n",
      " [-0.30964085  0.1570462 ]\n",
      " [-0.80480212  0.27301877]\n",
      " [-0.30964085 -0.5677824 ]]\n"
     ]
    }
   ],
   "source": [
    "from sklearn.preprocessing import StandardScaler\n",
    "sc_X = StandardScaler()\n",
    "\n",
    "X_train = sc_X.fit_transform(X_train)\n",
    "X_test = sc_X.transform(X_test)\n",
    "\n",
    "print(X_train[:5])\n",
    "print(\"-\"*28)\n",
    "print(X_test[:5])"
   ]
  },
  {
   "cell_type": "markdown",
   "id": "d366b1b1",
   "metadata": {},
   "source": [
    "Importing Logisitic regression class from sklearn library, we get:"
   ]
  },
  {
   "cell_type": "code",
   "execution_count": 7,
   "id": "07ed5213",
   "metadata": {
    "scrolled": true
   },
   "outputs": [
    {
     "name": "stdout",
     "output_type": "stream",
     "text": [
      "[[-0.80480212  0.50496393]\n",
      " [-0.01254409 -0.5677824 ]\n",
      " [-0.30964085  0.1570462 ]\n",
      " [-0.80480212  0.27301877]\n",
      " [-0.30964085 -0.5677824 ]\n",
      " [-1.10189888 -1.43757673]\n",
      " [-0.70576986 -1.58254245]\n",
      " [-0.21060859  2.15757314]\n",
      " [-1.99318916 -0.04590581]\n",
      " [ 0.8787462  -0.77073441]]\n",
      "----------------------------\n",
      "[0 0 0 0 0 0 0 1 0 1]\n"
     ]
    }
   ],
   "source": [
    "from sklearn.linear_model import LogisticRegression\n",
    "\n",
    "classifier = LogisticRegression(random_state = 0, solver = \"lbfgs\")\n",
    "\n",
    "# Fitting the classifier to the training set\n",
    "classifier.fit(X_train, Y_train)\n",
    "\n",
    "# Using .predict() to get a vector of predictions of X_test\n",
    "Y_pred = classifier.predict(X_test)\n",
    "\n",
    "# Printing predicted data\n",
    "print(X_test[:10])\n",
    "print(\"-\"*28)\n",
    "print(Y_pred[:10])"
   ]
  },
  {
   "cell_type": "markdown",
   "id": "825cdea8",
   "metadata": {},
   "source": [
    "<p> Observing the predicted data, we can see that as the value of independent variables (age and salary) increases, the user is more likely to click on an ad.</p><hr>\n",
    "Comparing predicted data to test data:"
   ]
  },
  {
   "cell_type": "code",
   "execution_count": 8,
   "id": "04db5176",
   "metadata": {
    "scrolled": true
   },
   "outputs": [
    {
     "name": "stdout",
     "output_type": "stream",
     "text": [
      "Predicted data: [0 0 0 0 0 0 0 1 0 1 0 0 0 0 0 0 0 0 1 0 0 1 0 1 0]\n",
      "Test data:      [0 0 0 0 0 0 0 1 0 0 0 0 0 0 0 0 0 0 1 0 0 1 0 1 0]\n"
     ]
    }
   ],
   "source": [
    "print(\"Predicted data:\", Y_pred[:25])\n",
    "print(\"Test data:     \", Y_test[:25])"
   ]
  },
  {
   "cell_type": "markdown",
   "id": "c5dd1257",
   "metadata": {},
   "source": [
    "In the first 25 entries, only one mismatch is found. Accuracy of the model is good. Now, using confusion matrix to evaluate how accurate our model is, we get:"
   ]
  },
  {
   "cell_type": "code",
   "execution_count": 9,
   "id": "7f6b918d",
   "metadata": {},
   "outputs": [
    {
     "name": "stdout",
     "output_type": "stream",
     "text": [
      "[[65  3]\n",
      " [ 8 24]]\n"
     ]
    }
   ],
   "source": [
    "from sklearn.metrics import confusion_matrix\n",
    "cm = confusion_matrix(Y_test, Y_pred)\n",
    "\n",
    "print(cm)"
   ]
  },
  {
   "cell_type": "markdown",
   "id": "e452c428",
   "metadata": {},
   "source": [
    "The sum of top-left and bottom-right values gives us the number of of correct predictions, and the other two values give us the number of incorrect predictions. \n",
    "<p>\n",
    "In our case, we have 89 (65 + 24) correct predictions and 11 (8 + 3) incorrect predictions.\n",
    "</p>"
   ]
  },
  {
   "cell_type": "markdown",
   "id": "9ad7abf8",
   "metadata": {},
   "source": [
    "<p>\n",
    "<b>TP: True positives </b> Cases that we predicted true but are actually true. (Bottom right value in confusion matrix): <b>24</b>\n",
    "</p>\n",
    "\n",
    "<p>\n",
    "<b>FP: False positives </b> Cases that we predicted true but are actually false. (Top right value in confusion matrix): <b>3</b>\n",
    "</p>\n",
    "\n",
    "<p>\n",
    "<b>TN: True negatives </b> Cases that we predicted false but are actually false. (Top left value in confusion matrix): <b>65</b>\n",
    "</p>\n",
    "\n",
    "<p>\n",
    "<b>FN: False negatives </b> Cases that we predicted false but are actually true. (Bottom left value in confusion matrix): <b>8</b>\n",
    "</p>\n",
    "\n",
    "<hr>\n",
    "\n",
    "<p>\n",
    "<b>Accuracy: </b> (true positives + true negatives) / (true positives + true negatives + false positives + false negatives): (24 + 65) / 100 = <b>0.89</b>\n",
    "</p>\n",
    "\n",
    "<p>\n",
    "<b>Error rate: </b> (false positives + false negatives) / (true positives + true negatives + false positives + false negatives): (3 + 8) / 100 = <b>0.11</b>\n",
    "</p>\n",
    "\n",
    "<p>\n",
    "<b>Precision: </b> true positives / (true positives + false positives): 24 / (24 + 3) = <b>0.889</b>\n",
    "</p>\n",
    "\n",
    "<p>\n",
    "<b>Recall: </b> true positives / (true positives + false negatives): 24 / (24 + 8) = <b>0.75</b>\n",
    "</p>"
   ]
  }
 ],
 "metadata": {
  "kernelspec": {
   "display_name": "Python 3 (ipykernel)",
   "language": "python",
   "name": "python3"
  },
  "language_info": {
   "codemirror_mode": {
    "name": "ipython",
    "version": 3
   },
   "file_extension": ".py",
   "mimetype": "text/x-python",
   "name": "python",
   "nbconvert_exporter": "python",
   "pygments_lexer": "ipython3",
   "version": "3.9.7"
  }
 },
 "nbformat": 4,
 "nbformat_minor": 5
}
